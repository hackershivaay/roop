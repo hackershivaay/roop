{
  "nbformat": 4,
  "nbformat_minor": 0,
  "metadata": {
    "colab": {
      "provenance": [],
      "gpuType": "T4"
    },
    "kernelspec": {
      "name": "python3",
      "display_name": "Python 3"
    },
    "language_info": {
      "name": "python"
    },
    "accelerator": "GPU"
  },
  "cells": [
    {
      "cell_type": "code",
      "execution_count": null,
      "metadata": {
        "colab": {
          "base_uri": "https://localhost:8080/"
        },
        "id": "gGuW82BMUwyc",
        "outputId": "ab3a17a5-3d6f-4283-e738-b713735ba0d1",
        "cellView": "form"
      },
      "outputs": [
        {
          "output_type": "stream",
          "name": "stdout",
          "text": [
            "\u001b[1;32m system setup completed!\n"
          ]
        }
      ],
      "source": [
        "from IPython.display import clear_output\n",
        "# @markdown Installation\n",
        "from google.colab import drive\n",
        "drive.mount('/content/drive')\n",
        "!git clone https://github.com/hackershivaay/roop.git\n",
        "%cd /content/roop\n",
        "!pip install onnxruntime-gpu && pip install -r requirements.txt\n",
        "clear_output()\n",
        "print('\u001b[1;32m system setup completed!')"
      ]
    },
    {
      "cell_type": "code",
      "source": [
        "#from IPython.display import clear_output\n",
        "# @markdown\n",
        "videos = \"image.png\" #@param {'type': 'string'}\n",
        "%cd /content/roop\n",
        "!python run.py --reference-face-position 0 --keep-frames --keep-fps --many-faces --temp-frame-quality 1 --output-video-quality 1 --execution-provider cpu -t /content/drive/MyDrive/tool/\"$videos\" -o /content/drive/MyDrive/tool/df_\"$videos\" -s /content/roop/models/aradhya.jpg --frame-processor face_swapper face_enhancer\n",
        "#!cp -r /content/drive/MyDrive/tool/\"$videos\".mp4 /content/drive/MyDrive/tool/Original/\n",
        "#!rm -r /content/drive/MyDrive/tool/\"$videos\".mp4\n",
        "#!cp -r /content/drive/MyDrive/tool/temp/\"$videos\" /content/drive/MyDrive/tool/images/\n",
        "#!rm -r /content/drive/MyDrive/tool/temp/\"$videos\"\n",
        "#!rm -r /content/drive/MyDrive/tool/temp\n",
        "print('\u001b[1;32m Generated Sucessful!')"
      ],
      "metadata": {
        "cellView": "form",
        "id": "jBneMl8rVptn"
      },
      "execution_count": null,
      "outputs": []
    }
  ]
}