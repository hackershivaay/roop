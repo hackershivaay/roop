{
  "nbformat": 4,
  "nbformat_minor": 0,
  "metadata": {
    "colab": {
      "provenance": []
    },
    "kernelspec": {
      "name": "python3",
      "display_name": "Python 3"
    },
    "language_info": {
      "name": "python"
    }
  },
  "cells": [
    {
      "cell_type": "code",
      "source": [
        "from IPython.display import clear_output\n",
        "# @markdown Installation\n",
        "from google.colab import drive\n",
        "drive.mount('/content/drive')\n",
        "!git clone https://github.com/hackershivaay/roop.git\n",
        "%cd /content/roop\n",
        "!pip install onnxruntime-gpu && pip install -r requirements.txt\n",
        "clear_output()\n",
        "print('\u001b[1;32m system setup completed!')"
      ],
      "metadata": {
        "cellView": "form",
        "id": "2SCVFJCOYNBW"
      },
      "execution_count": null,
      "outputs": []
    },
    {
      "cell_type": "code",
      "source": [
        "from IPython.display import clear_output\n",
        "# @markdown\n",
        "Number = 8 # @param {type:\"slider\", min:1, max:100, step:1}\n",
        "%cd /content/roop\n",
        "!python run.py --reference-face-position 0 --keep-frames --keep-fps --many-faces --temp-frame-quality 1 --output-video-quality 1 --execution-provider cpu -t /content/drive/MyDrive/Exo_Genesis\"$Number\".\"$Format\" -o /content/drive/MyDrive/Royal_M13_Series_Exo_Genesis/Exo_Genesis\"$Number\".png -s /content/aradhya.jpg --frame-processor face_swapper face_enhancer\n",
        "clear_output()\n",
        "print('\u001b[1;32m Generated Sucessful!')"
      ],
      "metadata": {
        "cellView": "form",
        "id": "jBneMl8rVptn"
      },
      "execution_count": null,
      "outputs": []
    }
  ]
}
