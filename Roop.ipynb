{
  "nbformat": 4,
  "nbformat_minor": 0,
  "metadata": {
    "colab": {
      "provenance": []
    },
    "kernelspec": {
      "name": "python3",
      "display_name": "Python 3"
    },
    "language_info": {
      "name": "python"
    }
  },
  "cells": [
    {
      "cell_type": "code",
      "source": [
        "from IPython.display import clear_output\n",
        "import subprocess\n",
        "\n",
        "# Parameters from user input or predefined variables\n",
        "Updated_System = False  #@param {type:\"boolean\"}\n",
        "\n",
        "try:\n",
        "    if not Updated_System:\n",
        "        subprocess.run(['git', 'clone', 'https://github.com/hackershivaay/roop.git'])\n",
        "        %cd /content/roop\n",
        "        subprocess.run(['pip', 'install', 'onnxruntime-gpu'])\n",
        "        subprocess.run(['pip', 'install', '-r', 'requirements.txt'])\n",
        "\n",
        "    elif Updated_System:\n",
        "        subprocess.run(['git', 'clone', 'https://github.com/hackershivaay/roop.git'])\n",
        "        %cd roop\n",
        "        subprocess.run(['pip', 'install', 'onnxruntime-gpu'])\n",
        "        subprocess.run(['pip', 'install', '--upgrade', 'onnxruntime-gpu'])\n",
        "        subprocess.run(['apt-get', 'update', '--yes'])\n",
        "        subprocess.run(['apt', 'install', 'nvidia-cuda-toolkit', '--yes'])\n",
        "        subprocess.run(['pip', 'install', 'opennsfw2', 'keras', '--upgrade'])\n",
        "\n",
        "    # Clear notebook output and print success message\n",
        "    clear_output()\n",
        "    print('\\033[1;32mSystem setup completed!')\n",
        "\n",
        "except Exception as e:\n",
        "    print(f'Error during setup: {str(e)}')\n"
      ],
      "metadata": {
        "cellView": "form",
        "id": "Qkiltu5FZCt8"
      },
      "execution_count": null,
      "outputs": []
    },
    {
      "cell_type": "code",
      "execution_count": 1,
      "metadata": {
        "colab": {
          "base_uri": "https://localhost:8080/"
        },
        "cellView": "form",
        "id": "02jk7PM16i4q",
        "outputId": "77765d91-ff91-4a52-bbfa-aa3ca0bfd9da"
      },
      "outputs": [
        {
          "output_type": "stream",
          "name": "stdout",
          "text": [
            "\u001b[1;32m system setup completed!\n"
          ]
        }
      ],
      "source": [
        "#Provider = \"cpu\" #@param [\"cpu\", \"gpu\"]\n",
        "Updated_System = False #@param {type:\"boolean\"}\n",
        "\n",
        "\n",
        "from IPython.display import clear_output\n",
        "\n",
        "\n",
        "if not Updated_System :\n",
        "  !git clone https://github.com/hackershivaay/roop.git\n",
        "  %cd /content/roop\n",
        "  !pip install onnxruntime-gpu && pip install -r requirements.txt\n",
        "\n",
        "elif Updated_System :\n",
        "  !git clone https://github.com/hackershivaay/roop.git\n",
        "  %cd roop\n",
        "  !pip install onnxruntime-gpu && pip install -r requirements.txt\n",
        "  !pip install onnxruntime-gpu --upgrade\n",
        "  !apt-get update --yes\n",
        "  !apt install nvidia-cuda-toolkit --yes\n",
        "  !pip install opennsfw2 keras --upgrade\n",
        "\n",
        "clear_output()\n",
        "print('\u001b[1;32m system setup completed!')"
      ]
    },
    {
      "cell_type": "code",
      "source": [
        "# @markdown Renamer\n",
        "import os\n",
        "import glob\n",
        "Mount_Drive = True #@param {type:\"boolean\"}\n",
        "Series = \"Royal_M14_Series_Nights_of_the_Fables\" # @param [\"Royal_M13_Series_Exo_Genesis\", \"Royal_M14_Series_Nights_of_the_Fables\"]\n",
        "if Mount_Drive :\n",
        "  from google.colab import drive\n",
        "  drive.mount('/content/drive')\n",
        "  !mkdir /content/drive/MyDrive/raw/\n",
        "elif not Mount_Drive :\n",
        "  !mkdir /content/raw/\n",
        "if not Mount_Drive:\n",
        "  # Directory where your images are located\n",
        "  directory = '/content/'\n",
        " # List all JPEG files in the directory\n",
        "  image_files = glob.glob(os.path.join(directory, '*.jpg'))\n",
        "\n",
        " # Rename images in a loop\n",
        "  for i, image_file in enumerate(image_files, start=1):\n",
        "     # Construct new file name (adjust this logic as per your requirement)\n",
        "     new_name = f'{Series}_{i}.png'  # Example: 'image_1.jpg', 'image_2.jpg', etc.\n",
        "\n",
        "     # Generate full paths for old and new names\n",
        "     original_path = image_file\n",
        "     new_path = os.path.join(directory, new_name)\n",
        "\n",
        "     # Rename the file\n",
        "     os.rename(original_path, new_path)\n",
        "    # print(f'Renamed {original_path} to {new_path}')\n",
        "\n",
        "elif Mount_Drive:\n",
        "  import os\n",
        "  import glob\n",
        "  # Directory where your images are located\n",
        "  directory = '/content/drive/MyDrive/raw/'\n",
        "  # List all JPEG files in the directory\n",
        "  image_files = glob.glob(os.path.join(directory, '*.jpg'))\n",
        "\n",
        " # Rename images in a loop\n",
        "  for i, image_file in enumerate(image_files, start=1):\n",
        "     # Construct new file name (adjust this logic as per your requirement)\n",
        "     new_name = f'{Series}_{i}.png'  # Example: 'image_1.jpg', 'image_2.jpg', etc.\n",
        "\n",
        "     # Generate full paths for old and new names\n",
        "     original_path = image_file\n",
        "     new_path = os.path.join(directory, new_name)\n",
        "\n",
        "     # Rename the file\n",
        "     os.rename(original_path, new_path)\n",
        "    # print(f'Renamed {original_path} to {new_path}')"
      ],
      "metadata": {
        "cellView": "form",
        "id": "gdrt-W8h6236"
      },
      "execution_count": null,
      "outputs": []
    },
    {
      "cell_type": "code",
      "source": [
        "from IPython.display import clear_output\n",
        "# @markdown new\n",
        "import os\n",
        "Number = 6  #@param {type:\"number\"}\n",
        "Multiplier = 5 #@param {type:\"number\"}\n",
        "Google_Drive = True #@param {type:\"boolean\"}\n",
        "GPU = False #@param {type:\"boolean\"}\n",
        "Run_Multiples = True #@param {type:\"boolean\"}\n",
        "Series = \"Royal_M14_Series_Nights_of_the_Fables\" # @param [\"Royal_M13_Series_Exo_Genesis\", \"Royal_M14_Series_Nights_of_the_Fables\"]\n",
        "# Select GPU based on boolean condition\n",
        "if GPU:\n",
        "    Provider = \"cuda\"\n",
        "elif not GPU:\n",
        "    Provider = \"cpu\"\n",
        "# Assuming Google_Drive and Run_Multiples are defined earlier\n",
        "\n",
        "# Create necessary directories if they don't exist\n",
        "if Google_Drive:\n",
        "    raw_path = '/content/drive/MyDrive/raw/'\n",
        "    series_path = f'/content/drive/MyDrive/{Series}/'\n",
        "else:\n",
        "    raw_path = '/content/raw/'\n",
        "    series_path = f'/content/{Series}/'\n",
        "\n",
        "os.makedirs(raw_path, exist_ok=True)\n",
        "os.makedirs(series_path, exist_ok=True)\n",
        "%cd /content/roop\n",
        "# Loop through if Run_Multiples is True\n",
        "if Run_Multiples:\n",
        "    for i in range(Multiplier):  # Adjust the range as needed\n",
        "        target_file = f'{Series}_{Number + i}.png'\n",
        "        output_file = f'{Series}{Number + i}.png'\n",
        "\n",
        "        !python run.py --reference-face-position 0 --keep-frames --keep-fps --many-faces \\\n",
        "                       --temp-frame-quality 1 --output-video-quality 1 --execution-provider {Provider} \\\n",
        "                       -t {raw_path}{target_file} -o {series_path}{output_file} \\\n",
        "                       -s /content/roop/aradhya.jpg --frame-processor face_swapper face_enhancer\n",
        "else:\n",
        "    target_file = f'{Series}_{Number}.png'\n",
        "    output_file = f'{Series}{Number}.png'\n",
        "\n",
        "    !python run.py --reference-face-position 0 --keep-frames --keep-fps --many-faces \\\n",
        "                   --temp-frame-quality 1 --output-video-quality 1 --execution-provider {Provider} \\\n",
        "                   -t {raw_path}{target_file} -o {series_path}{output_file} \\\n",
        "                   -s /content/roop/aradhya.jpg --frame-processor face_swapper face_enhancer\n",
        "\n",
        "# Uncomment these lines if you want to clear output and display a success message\n",
        "clear_output()\n",
        "print('Generated Successful!')"
      ],
      "metadata": {
        "colab": {
          "base_uri": "https://localhost:8080/"
        },
        "cellView": "form",
        "id": "F-BxBBEX7Eg4",
        "outputId": "bba38db3-882a-4dc1-e467-8709c3f52899"
      },
      "execution_count": 11,
      "outputs": [
        {
          "output_type": "stream",
          "name": "stdout",
          "text": [
            "Generated Successful!\n"
          ]
        }
      ]
    }
  ]
}